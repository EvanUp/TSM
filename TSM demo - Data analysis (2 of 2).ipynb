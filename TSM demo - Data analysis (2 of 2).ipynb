{
 "cells": [
  {
   "cell_type": "markdown",
   "metadata": {},
   "source": [
    "*Note: this notebook is meant to accompany a forthcoming book chapter by __Deen Freelon__ titled *Partition-specific network analysis of digital trace data: Research questions and tools. *It may or may not stand on its own. Also, you'll need to run the code in the predecessor to the current notebook first.*\n",
    "\n",
    "#Prelude: Prepping the data...\n",
    "\n",
    "Before running the code for any of the RQs, run the following code. You can paste it into its own .py file or download and run this notebook locally.\n",
    "\n",
    "Also, see the comments in the tsm.py source code for explanations of the functions' output."
   ]
  },
  {
   "cell_type": "code",
   "execution_count": null,
   "metadata": {
    "collapsed": false
   },
   "outputs": [],
   "source": [
    "import tsm\n",
    "edge_list = tsm.t2e('wiunion_rts_hydrated.csv','RTS_ONLY')\n",
    "partitioned_network = tsm.get_top_communities(edge_list)"
   ]
  },
  {
   "cell_type": "markdown",
   "metadata": {},
   "source": [
    "The variable *partitioned_network* is a louvainObject which contains several pieces of information about the partitioned network. For example, if you type:"
   ]
  },
  {
   "cell_type": "code",
   "execution_count": null,
   "metadata": {
    "collapsed": false
   },
   "outputs": [],
   "source": [
    "partitioned_network.n_communities"
   ]
  },
  {
   "cell_type": "markdown",
   "metadata": {},
   "source": [
    "Python will display the total number of communities the Louvain method discovered. And if you type:"
   ]
  },
  {
   "cell_type": "code",
   "execution_count": null,
   "metadata": {
    "collapsed": false
   },
   "outputs": [],
   "source": [
    "partitioned_network.modularity"
   ]
  },
  {
   "cell_type": "markdown",
   "metadata": {},
   "source": [
    "Python will display the partition's modularity value. A complete description of all the attributes of a louvainObject can be found in the comments of TSM itself.\n",
    "\n",
    "I highly recommend inspecting the contents of your network partition to figure out which partition is which, as results will vary on each run. "
   ]
  },
  {
   "cell_type": "markdown",
   "metadata": {},
   "source": [
    "# RQ1\n",
    "*How do different subgraphs in a partitioned network relate to one another?*\n",
    "\n",
    "Uncomment the last line of code below to save your proximity grid to a CSV file."
   ]
  },
  {
   "cell_type": "code",
   "execution_count": null,
   "metadata": {
    "collapsed": false
   },
   "outputs": [],
   "source": [
    "partnet_ei = tsm.calc_ei(partitioned_network.node_list,edge_list,'PROX')\n",
    "partnet_prox = tsm.prox_grid(partnet_ei)\n",
    "for row in partnet_prox:\n",
    "    print(row)\n",
    "\n",
    "# tsm.save_csv('wiunion_proxgrid.csv',partnet_prox)"
   ]
  },
  {
   "cell_type": "markdown",
   "metadata": {},
   "source": [
    "# RQ2\n",
    "*Which nodes are heavily connected to by distinct subgraphs?* "
   ]
  },
  {
   "cell_type": "code",
   "execution_count": null,
   "metadata": {
    "collapsed": false
   },
   "outputs": [],
   "source": [
    "partnet_inter = tsm.get_intermediaries(partitioned_network.node_list,edge_list,0.5,0.001)\n",
    "for inter in partnet_inter:\n",
    "    print(inter)"
   ]
  },
  {
   "cell_type": "markdown",
   "metadata": {},
   "source": [
    "# RQ3\n",
    "*How do subgraphs change over time?*"
   ]
  },
  {
   "cell_type": "code",
   "execution_count": null,
   "metadata": {
    "collapsed": false
   },
   "outputs": [],
   "source": [
    "unique_dates = sorted(list(set([i[2] for i in tweet_data])))\n",
    "num_buckets = len(unique_dates)//7\n",
    "wk_buckets = []\n",
    "\n",
    "for n in range(num_buckets):\n",
    "    wk_buckets.append(unique_dates[n*7:(n+1)*7])\n",
    "\n",
    "tweets_by_wk = []    \n",
    "    \n",
    "for n,bucket in enumerate(wk_buckets):\n",
    "    tweets_by_wk.append([])\n",
    "    for tweet in tweet_data:\n",
    "        if tweet[2] in bucket:\n",
    "            tweets_by_wk[n].append([tweet[0],tweet[1]])\n",
    "\n",
    "partitions_by_wk = []\n",
    "\n",
    "for bucket in tweets_by_wk:\n",
    "    partitions_by_wk.append(tsm.get_top_communities(tsm.t2e(bucket,'RTS_ONLY')))\n",
    "\n",
    "community_matches = []\n",
    "\n",
    "for n,edgelist in enumerate(partitions_by_wk):\n",
    "    if n+1 < len(partitions_by_wk):\n",
    "        community_matches.append(tsm.match_communities(partitions_by_wk[n].node_list,partitions_by_wk[n+1].node_list))"
   ]
  },
  {
   "cell_type": "markdown",
   "metadata": {},
   "source": [
    "The following line of code displays all best community matches for each time-slice pair that meets or exceeds the threshold."
   ]
  },
  {
   "cell_type": "code",
   "execution_count": null,
   "metadata": {
    "collapsed": false
   },
   "outputs": [],
   "source": [
    "for n,_ in enumerate(community_matches):\n",
    "    print('--------')\n",
    "    for i in community_matches[n].shared_nodes:\n",
    "        print(i,'\\t',community_matches[n].best_matches[i],'\\t',community_matches[n].shared_nodes[i])"
   ]
  }
 ],
 "metadata": {
  "kernelspec": {
   "display_name": "Python 3",
   "language": "python",
   "name": "python3"
  },
  "language_info": {
   "codemirror_mode": {
    "name": "ipython",
    "version": 3
   },
   "file_extension": ".py",
   "mimetype": "text/x-python",
   "name": "python",
   "nbconvert_exporter": "python",
   "pygments_lexer": "ipython3",
   "version": "3.4.1"
  }
 },
 "nbformat": 4,
 "nbformat_minor": 0
}
