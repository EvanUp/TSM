{
 "cells": [
  {
   "cell_type": "markdown",
   "metadata": {
    "collapsed": true
   },
   "source": [
    "*Note: this notebook is meant to accompany a forthcoming book chapter by __Deen Freelon__ titled *Partition-specific network analysis of digital trace data: Research questions and tools. *It may or may not stand on its own. After running the code in this notebook, you may want to proceed to the data analysis notebook.*"
   ]
  },
  {
   "cell_type": "markdown",
   "metadata": {
    "collapsed": true
   },
   "source": [
    "The purpose of this notebook is to prepare your computer to run TSM, the Twitter Subgraph Manipulator, on a Twitter dataset.\n",
    "\n",
    "#Task 1: Software installation\n",
    "\n",
    "1) Download and install Python 3.4 from here: https://www.python.org/downloads/\n",
    "\n",
    "2) Install NetworkX, python-louvain, and Twarc using the following shell commands:\n",
    "\n",
    "`pip install networkx`\n",
    "\n",
    "`pip install python-louvain`\n",
    "\n",
    "`pip install twarc`\n",
    "\n",
    "OR use the following links, respectively:\n",
    "\n",
    "http://networkx.github.io/download.html\n",
    "\n",
    "https://bitbucket.org/taynaud/python-louvain\n",
    "\n",
    "https://github.com/edsu/twarc\n",
    "\n",
    "3) Download the Twitter ID file from here: [link] to your Python directory.\n",
    "\n",
    "4) If you want to run the code in this notebook directly from the notebook, install IPython using the following shell command:\n",
    "\n",
    "`pip install ipython`\n",
    "\n",
    "and run IPython Notebooks using the following shell command:\n",
    "\n",
    "`ipython notebook`\n",
    "\n",
    "5) In Python, run the following command:"
   ]
  },
  {
   "cell_type": "code",
   "execution_count": null,
   "metadata": {
    "collapsed": true
   },
   "outputs": [],
   "source": [
    "import tsm"
   ]
  },
  {
   "cell_type": "markdown",
   "metadata": {},
   "source": [
    "6) If you don't see an error, you did everything correctly."
   ]
  },
  {
   "cell_type": "markdown",
   "metadata": {},
   "source": [
    "#Task 2: Hydrating the data\n",
    "\n",
    "The tweet ID file linked above consists of a list of 564,318 tweet IDs for retweets containing the hashtag \"#wiunion\" posted between 2/17/2011 and 3/23/2011. This dataset was collected through the Twitter search API and thus is probably incomplete. The code below will convert (\"hydrate\") the tweet IDs into the data you'll need for the analysis notebook. But before you run it, complete the following steps:\n",
    "\n",
    "1) Create a new Twitter app here: https://apps.twitter.com/app/new\n",
    "\n",
    "2) Copy your new app's token, token secret, consumer key, and consumer secret into the respective single-quoted fields on lines 1-4 of the code below. You can find these on the \"Keys and Access Tokens\" tab of your app page.\n",
    "\n",
    "3) Run the code below. Remember, the code file or notebook must be in the same folder as the data file for it to work.\n",
    "\n",
    "4) The hydration process may take up to eight hours of continuous broadband connectivity to complete, or longer on a slower connection. When it has finished, you will find a file called \"wiunion_rts_hydrated.csv\" in the same folder as your tweet ID file. It should contain close to 564,318 data rows, allowing for a small amount of data rot."
   ]
  },
  {
   "cell_type": "code",
   "execution_count": null,
   "metadata": {
    "collapsed": true
   },
   "outputs": [],
   "source": [
    "from tsm import save_csv\n",
    "from datetime import date\n",
    "from time import strptime\n",
    "from twarc import Twarc \n",
    "\n",
    "token = ''\n",
    "token_secret = ''\n",
    "consumer_key = ''\n",
    "consumer_secret = ''\n",
    "\n",
    "t = Twarc(consumer_key, consumer_secret, token, token_secret)\n",
    "wiunion_dataset = []\n",
    "\n",
    "for tweet in t.hydrate(open('wiunion_rt_ids_20110217-20110323.csv')):\n",
    "    rawtime = tweet['created_at']\n",
    "    time_prep = rawtime[-4:] + ' ' + rawtime[4:7] + ' ' + rawtime[8:10]\n",
    "    st = strptime(time_prep, '%Y %b %d')\n",
    "    finaldate = date(st.tm_year,st.tm_mon,st.tm_mday).isoformat()\n",
    "    wiunion_dataset.append([tweet['user']['screen_name'],tweet['text'],finaldate])\n",
    "    \n",
    "save_csv('wiunion_rts_hydrated.csv',wiunion_dataset,'USE_QUOTES')"
   ]
  }
 ],
 "metadata": {
  "kernelspec": {
   "display_name": "Python 3",
   "language": "python",
   "name": "python3"
  },
  "language_info": {
   "codemirror_mode": {
    "name": "ipython",
    "version": 3
   },
   "file_extension": ".py",
   "mimetype": "text/x-python",
   "name": "python",
   "nbconvert_exporter": "python",
   "pygments_lexer": "ipython3",
   "version": "3.4.1"
  }
 },
 "nbformat": 4,
 "nbformat_minor": 0
}
